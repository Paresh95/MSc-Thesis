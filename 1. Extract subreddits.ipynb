{
 "cells": [
  {
   "cell_type": "markdown",
   "metadata": {},
   "source": [
    "Launch pyspark with 'pyspark --driver-cores 6'"
   ]
  },
  {
   "cell_type": "code",
   "execution_count": 1,
   "metadata": {},
   "outputs": [],
   "source": [
    "# import libraries\n",
    "import pandas as pd"
   ]
  },
  {
   "cell_type": "code",
   "execution_count": 19,
   "metadata": {},
   "outputs": [],
   "source": [
    "filename = 'json file'\n",
    "\n",
    "data = spark.read.json(filename)\n",
    "data.createOrReplaceTempView(\"data\")"
   ]
  },
  {
   "cell_type": "code",
   "execution_count": 20,
   "metadata": {},
   "outputs": [
    {
     "name": "stdout",
     "output_type": "stream",
     "text": [
      "root\n",
      " |-- author: string (nullable = true)\n",
      " |-- author_flair_css_class: string (nullable = true)\n",
      " |-- author_flair_text: string (nullable = true)\n",
      " |-- body: string (nullable = true)\n",
      " |-- controversiality: long (nullable = true)\n",
      " |-- created_utc: long (nullable = true)\n",
      " |-- distinguished: string (nullable = true)\n",
      " |-- edited: string (nullable = true)\n",
      " |-- gilded: long (nullable = true)\n",
      " |-- id: string (nullable = true)\n",
      " |-- link_id: string (nullable = true)\n",
      " |-- parent_id: string (nullable = true)\n",
      " |-- retrieved_on: long (nullable = true)\n",
      " |-- score: long (nullable = true)\n",
      " |-- stickied: boolean (nullable = true)\n",
      " |-- subreddit: string (nullable = true)\n",
      " |-- subreddit_id: string (nullable = true)\n",
      " |-- ups: long (nullable = true)\n",
      "\n"
     ]
    }
   ],
   "source": [
    "data.printSchema()"
   ]
  },
  {
   "cell_type": "code",
   "execution_count": 4,
   "metadata": {},
   "outputs": [
    {
     "data": {
      "text/plain": [
       "72942967"
      ]
     },
     "execution_count": 4,
     "metadata": {},
     "output_type": "execute_result"
    }
   ],
   "source": [
    "data.count()"
   ]
  },
  {
   "cell_type": "code",
   "execution_count": 21,
   "metadata": {},
   "outputs": [],
   "source": [
    "subreddits = spark.sql(\"SELECT author, body, created_utc, score, subreddit\\\n",
    "                       FROM data WHERE subreddit IN ('depression', 'SuicideWatch', \\\n",
    "                       'relationships', 'confession', 'MadeMeSmile', 'happy', 'politics', 'sports', 'TrollYChromosome', \\\n",
    "                       'TrollXChromosome', 'BlackPeopleTwitter', 'malehairadvice', 'findareddit', 'legaladvice',\\\n",
    "                       'AskWomen', 'Parenting', 'television', 'news', 'WhitePeopleTwitter', 'RoastMe',\\\n",
    "                       'AdviceAnimals', 'GetMotivated', 'hiphopheads', 'worldnews', 'tifu', 'TwoXChromosomes',\\\n",
    "                       'entertainment', 'creepyPMs', 'ContagiousLaughter', 'Showerthoughts', 'randomactsofkindness',\\\n",
    "                       'TalesFromRetail', 'pettyrevenge', 'crime')\\\n",
    "                       AND score>0 AND controversiality=0 AND distinguished IS NULL AND link_id=parent_id\\\n",
    "                       AND body!= '[deleted]' AND author!= '[deleted]'\").toPandas()"
   ]
  },
  {
   "cell_type": "markdown",
   "metadata": {},
   "source": [
    "Sanity check"
   ]
  },
  {
   "cell_type": "code",
   "execution_count": 22,
   "metadata": {},
   "outputs": [
    {
     "data": {
      "text/plain": [
       "904609"
      ]
     },
     "execution_count": 22,
     "metadata": {},
     "output_type": "execute_result"
    }
   ],
   "source": [
    "len(subreddits)"
   ]
  },
  {
   "cell_type": "code",
   "execution_count": 23,
   "metadata": {},
   "outputs": [
    {
     "data": {
      "text/html": [
       "<div>\n",
       "<style scoped>\n",
       "    .dataframe tbody tr th:only-of-type {\n",
       "        vertical-align: middle;\n",
       "    }\n",
       "\n",
       "    .dataframe tbody tr th {\n",
       "        vertical-align: top;\n",
       "    }\n",
       "\n",
       "    .dataframe thead th {\n",
       "        text-align: right;\n",
       "    }\n",
       "</style>\n",
       "<table border=\"1\" class=\"dataframe\">\n",
       "  <thead>\n",
       "    <tr style=\"text-align: right;\">\n",
       "      <th></th>\n",
       "      <th>author</th>\n",
       "      <th>body</th>\n",
       "      <th>created_utc</th>\n",
       "      <th>score</th>\n",
       "      <th>subreddit</th>\n",
       "    </tr>\n",
       "  </thead>\n",
       "  <tbody>\n",
       "    <tr>\n",
       "      <th>0</th>\n",
       "      <td>GoogleIsYourFrenemy</td>\n",
       "      <td>/r/Explainlikeimscared\\n\\nbut really any subre...</td>\n",
       "      <td>1451606400</td>\n",
       "      <td>1</td>\n",
       "      <td>findareddit</td>\n",
       "    </tr>\n",
       "    <tr>\n",
       "      <th>1</th>\n",
       "      <td>Adderall-</td>\n",
       "      <td>reminds me of steve smith and his friends from...</td>\n",
       "      <td>1451606402</td>\n",
       "      <td>1</td>\n",
       "      <td>RoastMe</td>\n",
       "    </tr>\n",
       "    <tr>\n",
       "      <th>2</th>\n",
       "      <td>Teecolz</td>\n",
       "      <td>Days After Rodeo\\n\\n\\nIsaiah Rashad\\n\\n\\nKendr...</td>\n",
       "      <td>1451606405</td>\n",
       "      <td>2</td>\n",
       "      <td>hiphopheads</td>\n",
       "    </tr>\n",
       "    <tr>\n",
       "      <th>3</th>\n",
       "      <td>ExquisiteInquisition</td>\n",
       "      <td>Yeah, I understand that one. I'm close to that...</td>\n",
       "      <td>1451606417</td>\n",
       "      <td>1</td>\n",
       "      <td>depression</td>\n",
       "    </tr>\n",
       "    <tr>\n",
       "      <th>4</th>\n",
       "      <td>dubstependerfox</td>\n",
       "      <td>The truth. A lie like that would make me want ...</td>\n",
       "      <td>1451606419</td>\n",
       "      <td>1</td>\n",
       "      <td>AskWomen</td>\n",
       "    </tr>\n",
       "  </tbody>\n",
       "</table>\n",
       "</div>"
      ],
      "text/plain": [
       "                 author                                               body  \\\n",
       "0   GoogleIsYourFrenemy  /r/Explainlikeimscared\\n\\nbut really any subre...   \n",
       "1             Adderall-  reminds me of steve smith and his friends from...   \n",
       "2               Teecolz  Days After Rodeo\\n\\n\\nIsaiah Rashad\\n\\n\\nKendr...   \n",
       "3  ExquisiteInquisition  Yeah, I understand that one. I'm close to that...   \n",
       "4       dubstependerfox  The truth. A lie like that would make me want ...   \n",
       "\n",
       "   created_utc  score    subreddit  \n",
       "0   1451606400      1  findareddit  \n",
       "1   1451606402      1      RoastMe  \n",
       "2   1451606405      2  hiphopheads  \n",
       "3   1451606417      1   depression  \n",
       "4   1451606419      1     AskWomen  "
      ]
     },
     "execution_count": 23,
     "metadata": {},
     "output_type": "execute_result"
    }
   ],
   "source": [
    "subreddits.head()"
   ]
  },
  {
   "cell_type": "code",
   "execution_count": 24,
   "metadata": {},
   "outputs": [
    {
     "data": {
      "text/plain": [
       "94870"
      ]
     },
     "execution_count": 24,
     "metadata": {},
     "output_type": "execute_result"
    }
   ],
   "source": [
    "len(subreddits.loc[subreddits['subreddit'] == 'politics'])"
   ]
  },
  {
   "cell_type": "code",
   "execution_count": 25,
   "metadata": {},
   "outputs": [
    {
     "data": {
      "text/plain": [
       "relationships           108076\n",
       "politics                 94870\n",
       "Showerthoughts           84758\n",
       "RoastMe                  84057\n",
       "AdviceAnimals            79598\n",
       "worldnews                78771\n",
       "news                     73776\n",
       "AskWomen                 67463\n",
       "tifu                     40189\n",
       "hiphopheads              39494\n",
       "legaladvice              25814\n",
       "television               25697\n",
       "BlackPeopleTwitter       20572\n",
       "depression               14967\n",
       "Parenting                11114\n",
       "sports                    9234\n",
       "ForeverAlone              8458\n",
       "GetMotivated              6338\n",
       "confession                5937\n",
       "creepyPMs                 4622\n",
       "TalesFromRetail           4551\n",
       "SuicideWatch              4155\n",
       "malehairadvice            2809\n",
       "TrollYChromosome          2481\n",
       "pettyrevenge              2237\n",
       "findareddit               1875\n",
       "ContagiousLaughter        1216\n",
       "MadeMeSmile                885\n",
       "happy                      504\n",
       "WhitePeopleTwitter          49\n",
       "randomactsofkindness        21\n",
       "crime                       13\n",
       "TrollXChromosome             8\n",
       "Name: subreddit, dtype: int64"
      ]
     },
     "execution_count": 25,
     "metadata": {},
     "output_type": "execute_result"
    }
   ],
   "source": [
    "pd.value_counts(subreddits.subreddit)"
   ]
  },
  {
   "cell_type": "markdown",
   "metadata": {},
   "source": [
    "Convert Pandas df to csv\n",
    "\n",
    "- Change file name each time!"
   ]
  },
  {
   "cell_type": "code",
   "execution_count": 26,
   "metadata": {},
   "outputs": [],
   "source": [
    "subreddits.to_csv('filename', encoding=\"utf-8\")"
   ]
  }
 ],
 "metadata": {
  "kernelspec": {
   "display_name": "Python 3",
   "language": "python",
   "name": "python3"
  },
  "language_info": {
   "codemirror_mode": {
    "name": "ipython",
    "version": 3
   },
   "file_extension": ".py",
   "mimetype": "text/x-python",
   "name": "python",
   "nbconvert_exporter": "python",
   "pygments_lexer": "ipython3",
   "version": "3.6.8"
  }
 },
 "nbformat": 4,
 "nbformat_minor": 2
}

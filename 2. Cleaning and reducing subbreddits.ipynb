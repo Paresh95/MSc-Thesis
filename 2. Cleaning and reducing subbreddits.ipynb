{
 "cells": [
  {
   "cell_type": "code",
   "execution_count": 2,
   "metadata": {},
   "outputs": [],
   "source": [
    "#import libraries\n",
    "import pandas as pd\n",
    "from datetime import datetime"
   ]
  },
  {
   "cell_type": "code",
   "execution_count": 2,
   "metadata": {},
   "outputs": [],
   "source": [
    "#change cwd\n",
    "import os\n",
    "os.chdir(\"C:\\\\Paresh\\\\University\\\\LSE\\\\Applied Social Data Science\\\\Capstone Project - MY498\\\\Datasets\\\\Subreddits\\\\New raw\")"
   ]
  },
  {
   "cell_type": "code",
   "execution_count": 15,
   "metadata": {},
   "outputs": [],
   "source": [
    "# clean data by removing NaN values\n",
    "def clean(filename):\n",
    "    '''Removes NaN values.'''\n",
    "    df = pd.read_csv(filename)\n",
    "    df = df.dropna(how='any')\n",
    "    df.to_csv('U'+filename)\n",
    "\n",
    "clean('subreddits12.csv')"
   ]
  },
  {
   "cell_type": "code",
   "execution_count": 4,
   "metadata": {},
   "outputs": [],
   "source": [
    "# read updated clean files in and get important columns\n",
    "def readfile(filename):\n",
    "    df = pd.read_csv(filename, dtype={\"author\": str, \"body\": str, \"created_utc\": int, \"score\": int, \"subreddit\": str})\n",
    "    df = df[['author', 'body', 'created_utc', 'score', 'subreddit']]\n",
    "    return df"
   ]
  },
  {
   "cell_type": "code",
   "execution_count": 5,
   "metadata": {},
   "outputs": [],
   "source": [
    "df1 = readfile('Usubreddits1.csv')\n",
    "df2 = readfile('Usubreddits2.csv')\n",
    "df3 = readfile('Usubreddits3.csv')\n",
    "df4 = readfile('Usubreddits4.csv')\n",
    "df5 = readfile('Usubreddits5.csv')\n",
    "df6 = readfile('Usubreddits6.csv')\n",
    "df7 = readfile('Usubreddits7.csv')\n",
    "df8 = readfile('Usubreddits8.csv')\n",
    "df9 = readfile('Usubreddits9.csv')\n",
    "df10 = readfile('Usubreddits10.csv')\n",
    "df11 = readfile('Usubreddits11.csv')\n",
    "df12 = readfile('Usubreddits12.csv')"
   ]
  },
  {
   "cell_type": "code",
   "execution_count": 6,
   "metadata": {},
   "outputs": [],
   "source": [
    "# concatenate into one df\n",
    "joint_df = pd.concat([df1, df2, df3, df4, df5, df6, df7, df8, df9, df10, df11, df12])"
   ]
  },
  {
   "cell_type": "code",
   "execution_count": 7,
   "metadata": {},
   "outputs": [
    {
     "name": "stdout",
     "output_type": "stream",
     "text": [
      "(11392713, 5)\n"
     ]
    },
    {
     "data": {
      "text/html": [
       "<div>\n",
       "<style scoped>\n",
       "    .dataframe tbody tr th:only-of-type {\n",
       "        vertical-align: middle;\n",
       "    }\n",
       "\n",
       "    .dataframe tbody tr th {\n",
       "        vertical-align: top;\n",
       "    }\n",
       "\n",
       "    .dataframe thead th {\n",
       "        text-align: right;\n",
       "    }\n",
       "</style>\n",
       "<table border=\"1\" class=\"dataframe\">\n",
       "  <thead>\n",
       "    <tr style=\"text-align: right;\">\n",
       "      <th></th>\n",
       "      <th>author</th>\n",
       "      <th>body</th>\n",
       "      <th>created_utc</th>\n",
       "      <th>score</th>\n",
       "      <th>subreddit</th>\n",
       "    </tr>\n",
       "  </thead>\n",
       "  <tbody>\n",
       "    <tr>\n",
       "      <th>0</th>\n",
       "      <td>GoogleIsYourFrenemy</td>\n",
       "      <td>/r/Explainlikeimscared\\r\\r\\n\\r\\r\\nbut really a...</td>\n",
       "      <td>1451606400</td>\n",
       "      <td>1</td>\n",
       "      <td>findareddit</td>\n",
       "    </tr>\n",
       "    <tr>\n",
       "      <th>1</th>\n",
       "      <td>Adderall-</td>\n",
       "      <td>reminds me of steve smith and his friends from...</td>\n",
       "      <td>1451606402</td>\n",
       "      <td>1</td>\n",
       "      <td>RoastMe</td>\n",
       "    </tr>\n",
       "    <tr>\n",
       "      <th>2</th>\n",
       "      <td>Teecolz</td>\n",
       "      <td>Days After Rodeo\\r\\r\\n\\r\\r\\n\\r\\r\\nIsaiah Rasha...</td>\n",
       "      <td>1451606405</td>\n",
       "      <td>2</td>\n",
       "      <td>hiphopheads</td>\n",
       "    </tr>\n",
       "    <tr>\n",
       "      <th>3</th>\n",
       "      <td>ExquisiteInquisition</td>\n",
       "      <td>Yeah, I understand that one. I'm close to that...</td>\n",
       "      <td>1451606417</td>\n",
       "      <td>1</td>\n",
       "      <td>depression</td>\n",
       "    </tr>\n",
       "    <tr>\n",
       "      <th>4</th>\n",
       "      <td>dubstependerfox</td>\n",
       "      <td>The truth. A lie like that would make me want ...</td>\n",
       "      <td>1451606419</td>\n",
       "      <td>1</td>\n",
       "      <td>AskWomen</td>\n",
       "    </tr>\n",
       "  </tbody>\n",
       "</table>\n",
       "</div>"
      ],
      "text/plain": [
       "                 author                                               body  \\\n",
       "0   GoogleIsYourFrenemy  /r/Explainlikeimscared\\r\\r\\n\\r\\r\\nbut really a...   \n",
       "1             Adderall-  reminds me of steve smith and his friends from...   \n",
       "2               Teecolz  Days After Rodeo\\r\\r\\n\\r\\r\\n\\r\\r\\nIsaiah Rasha...   \n",
       "3  ExquisiteInquisition  Yeah, I understand that one. I'm close to that...   \n",
       "4       dubstependerfox  The truth. A lie like that would make me want ...   \n",
       "\n",
       "   created_utc  score    subreddit  \n",
       "0   1451606400      1  findareddit  \n",
       "1   1451606402      1      RoastMe  \n",
       "2   1451606405      2  hiphopheads  \n",
       "3   1451606417      1   depression  \n",
       "4   1451606419      1     AskWomen  "
      ]
     },
     "execution_count": 7,
     "metadata": {},
     "output_type": "execute_result"
    }
   ],
   "source": [
    "print(joint_df.shape)\n",
    "joint_df.head()"
   ]
  },
  {
   "cell_type": "code",
   "execution_count": 8,
   "metadata": {},
   "outputs": [],
   "source": [
    "# rename columns\n",
    "joint_df.columns = ['Author', 'Comment', 'Date', 'Score', 'Subreddit']"
   ]
  },
  {
   "cell_type": "code",
   "execution_count": 9,
   "metadata": {},
   "outputs": [],
   "source": [
    "# change utc to readable datetime\n",
    "joint_df['Date'] = joint_df['Date'].apply(lambda x: datetime.utcfromtimestamp(x).strftime('%Y-%m-%d %H:%M:%S'))"
   ]
  },
  {
   "cell_type": "code",
   "execution_count": 10,
   "metadata": {},
   "outputs": [
    {
     "data": {
      "text/html": [
       "<div>\n",
       "<style scoped>\n",
       "    .dataframe tbody tr th:only-of-type {\n",
       "        vertical-align: middle;\n",
       "    }\n",
       "\n",
       "    .dataframe tbody tr th {\n",
       "        vertical-align: top;\n",
       "    }\n",
       "\n",
       "    .dataframe thead th {\n",
       "        text-align: right;\n",
       "    }\n",
       "</style>\n",
       "<table border=\"1\" class=\"dataframe\">\n",
       "  <thead>\n",
       "    <tr style=\"text-align: right;\">\n",
       "      <th></th>\n",
       "      <th>Author</th>\n",
       "      <th>Comment</th>\n",
       "      <th>Date</th>\n",
       "      <th>Score</th>\n",
       "      <th>Subreddit</th>\n",
       "    </tr>\n",
       "  </thead>\n",
       "  <tbody>\n",
       "    <tr>\n",
       "      <th>0</th>\n",
       "      <td>GoogleIsYourFrenemy</td>\n",
       "      <td>/r/Explainlikeimscared\\r\\r\\n\\r\\r\\nbut really a...</td>\n",
       "      <td>2016-01-01 00:00:00</td>\n",
       "      <td>1</td>\n",
       "      <td>findareddit</td>\n",
       "    </tr>\n",
       "    <tr>\n",
       "      <th>1</th>\n",
       "      <td>Adderall-</td>\n",
       "      <td>reminds me of steve smith and his friends from...</td>\n",
       "      <td>2016-01-01 00:00:02</td>\n",
       "      <td>1</td>\n",
       "      <td>RoastMe</td>\n",
       "    </tr>\n",
       "    <tr>\n",
       "      <th>2</th>\n",
       "      <td>Teecolz</td>\n",
       "      <td>Days After Rodeo\\r\\r\\n\\r\\r\\n\\r\\r\\nIsaiah Rasha...</td>\n",
       "      <td>2016-01-01 00:00:05</td>\n",
       "      <td>2</td>\n",
       "      <td>hiphopheads</td>\n",
       "    </tr>\n",
       "    <tr>\n",
       "      <th>3</th>\n",
       "      <td>ExquisiteInquisition</td>\n",
       "      <td>Yeah, I understand that one. I'm close to that...</td>\n",
       "      <td>2016-01-01 00:00:17</td>\n",
       "      <td>1</td>\n",
       "      <td>depression</td>\n",
       "    </tr>\n",
       "    <tr>\n",
       "      <th>4</th>\n",
       "      <td>dubstependerfox</td>\n",
       "      <td>The truth. A lie like that would make me want ...</td>\n",
       "      <td>2016-01-01 00:00:19</td>\n",
       "      <td>1</td>\n",
       "      <td>AskWomen</td>\n",
       "    </tr>\n",
       "  </tbody>\n",
       "</table>\n",
       "</div>"
      ],
      "text/plain": [
       "                 Author                                            Comment  \\\n",
       "0   GoogleIsYourFrenemy  /r/Explainlikeimscared\\r\\r\\n\\r\\r\\nbut really a...   \n",
       "1             Adderall-  reminds me of steve smith and his friends from...   \n",
       "2               Teecolz  Days After Rodeo\\r\\r\\n\\r\\r\\n\\r\\r\\nIsaiah Rasha...   \n",
       "3  ExquisiteInquisition  Yeah, I understand that one. I'm close to that...   \n",
       "4       dubstependerfox  The truth. A lie like that would make me want ...   \n",
       "\n",
       "                  Date  Score    Subreddit  \n",
       "0  2016-01-01 00:00:00      1  findareddit  \n",
       "1  2016-01-01 00:00:02      1      RoastMe  \n",
       "2  2016-01-01 00:00:05      2  hiphopheads  \n",
       "3  2016-01-01 00:00:17      1   depression  \n",
       "4  2016-01-01 00:00:19      1     AskWomen  "
      ]
     },
     "execution_count": 10,
     "metadata": {},
     "output_type": "execute_result"
    }
   ],
   "source": [
    "joint_df.head()"
   ]
  },
  {
   "cell_type": "code",
   "execution_count": 11,
   "metadata": {},
   "outputs": [
    {
     "data": {
      "text/plain": [
       "Subreddit\n",
       "politics                2145982\n",
       "relationships           1313326\n",
       "Showerthoughts          1183286\n",
       "worldnews                870998\n",
       "RoastMe                  791611\n",
       "news                     741872\n",
       "AdviceAnimals            711946\n",
       "AskWomen                 660378\n",
       "hiphopheads              495652\n",
       "television               335211\n",
       "tifu                     331200\n",
       "legaladvice              325568\n",
       "BlackPeopleTwitter       257373\n",
       "TwoXChromosomes          255361\n",
       "depression               217109\n",
       "Parenting                136386\n",
       "sports                   128531\n",
       "GetMotivated              96745\n",
       "confession                68581\n",
       "TalesFromRetail           57148\n",
       "SuicideWatch              56638\n",
       "creepyPMs                 50790\n",
       "malehairadvice            36175\n",
       "pettyrevenge              25504\n",
       "findareddit               22447\n",
       "TrollYChromosome          20681\n",
       "MadeMeSmile               16444\n",
       "entertainment             15781\n",
       "ContagiousLaughter        14299\n",
       "happy                      7948\n",
       "WhitePeopleTwitter         1290\n",
       "randomactsofkindness        239\n",
       "crime                       124\n",
       "TrollXChromosome             89\n",
       "Name: Comment, dtype: int64"
      ]
     },
     "execution_count": 11,
     "metadata": {},
     "output_type": "execute_result"
    }
   ],
   "source": [
    "#count comments in each subreddit\n",
    "joint_df.groupby(['Subreddit']).Comment.count().nlargest(34)"
   ]
  },
  {
   "cell_type": "markdown",
   "metadata": {},
   "source": [
    "## Get all depression and SuicideWatch comments for 2016"
   ]
  },
  {
   "cell_type": "code",
   "execution_count": 37,
   "metadata": {},
   "outputs": [],
   "source": [
    "# get all depression related comments for 2016\n",
    "df = joint_df.loc[(joint_df['Subreddit'] == 'depression') | (joint_df['Subreddit'] == 'SuicideWatch')]"
   ]
  },
  {
   "cell_type": "code",
   "execution_count": 31,
   "metadata": {},
   "outputs": [
    {
     "name": "stdout",
     "output_type": "stream",
     "text": [
      "273747\n"
     ]
    },
    {
     "data": {
      "text/html": [
       "<div>\n",
       "<style scoped>\n",
       "    .dataframe tbody tr th:only-of-type {\n",
       "        vertical-align: middle;\n",
       "    }\n",
       "\n",
       "    .dataframe tbody tr th {\n",
       "        vertical-align: top;\n",
       "    }\n",
       "\n",
       "    .dataframe thead th {\n",
       "        text-align: right;\n",
       "    }\n",
       "</style>\n",
       "<table border=\"1\" class=\"dataframe\">\n",
       "  <thead>\n",
       "    <tr style=\"text-align: right;\">\n",
       "      <th></th>\n",
       "      <th>Author</th>\n",
       "      <th>Comment</th>\n",
       "      <th>Date</th>\n",
       "      <th>Score</th>\n",
       "      <th>Subreddit</th>\n",
       "    </tr>\n",
       "  </thead>\n",
       "  <tbody>\n",
       "    <tr>\n",
       "      <th>1007971</th>\n",
       "      <td>Zeriian</td>\n",
       "      <td>I too am alone for the New Year. Sucks but thi...</td>\n",
       "      <td>2016-12-31 23:56:29</td>\n",
       "      <td>1</td>\n",
       "      <td>depression</td>\n",
       "    </tr>\n",
       "    <tr>\n",
       "      <th>1008007</th>\n",
       "      <td>ThrewAwoo1</td>\n",
       "      <td>Wait you served in the army? You've already go...</td>\n",
       "      <td>2016-12-31 23:58:14</td>\n",
       "      <td>16</td>\n",
       "      <td>SuicideWatch</td>\n",
       "    </tr>\n",
       "    <tr>\n",
       "      <th>1008038</th>\n",
       "      <td>emchiri</td>\n",
       "      <td>1: eh, if you're young you have time, there's ...</td>\n",
       "      <td>2016-12-31 23:59:27</td>\n",
       "      <td>3</td>\n",
       "      <td>depression</td>\n",
       "    </tr>\n",
       "    <tr>\n",
       "      <th>1008040</th>\n",
       "      <td>stu_25</td>\n",
       "      <td>Basically this.</td>\n",
       "      <td>2016-12-31 23:59:37</td>\n",
       "      <td>3</td>\n",
       "      <td>depression</td>\n",
       "    </tr>\n",
       "    <tr>\n",
       "      <th>1008045</th>\n",
       "      <td>stupid_buttons</td>\n",
       "      <td>Life is pointless. Posting is part of life.</td>\n",
       "      <td>2016-12-31 23:59:52</td>\n",
       "      <td>2</td>\n",
       "      <td>depression</td>\n",
       "    </tr>\n",
       "  </tbody>\n",
       "</table>\n",
       "</div>"
      ],
      "text/plain": [
       "                 Author                                            Comment  \\\n",
       "1007971         Zeriian  I too am alone for the New Year. Sucks but thi...   \n",
       "1008007      ThrewAwoo1  Wait you served in the army? You've already go...   \n",
       "1008038         emchiri  1: eh, if you're young you have time, there's ...   \n",
       "1008040          stu_25                                   Basically this.    \n",
       "1008045  stupid_buttons       Life is pointless. Posting is part of life.    \n",
       "\n",
       "                        Date  Score     Subreddit  \n",
       "1007971  2016-12-31 23:56:29      1    depression  \n",
       "1008007  2016-12-31 23:58:14     16  SuicideWatch  \n",
       "1008038  2016-12-31 23:59:27      3    depression  \n",
       "1008040  2016-12-31 23:59:37      3    depression  \n",
       "1008045  2016-12-31 23:59:52      2    depression  "
      ]
     },
     "execution_count": 31,
     "metadata": {},
     "output_type": "execute_result"
    }
   ],
   "source": [
    "print(len(df))\n",
    "df.tail()"
   ]
  },
  {
   "cell_type": "code",
   "execution_count": 38,
   "metadata": {},
   "outputs": [
    {
     "name": "stderr",
     "output_type": "stream",
     "text": [
      "C:\\Paresh\\Anaconda1\\lib\\site-packages\\ipykernel_launcher.py:4: SettingWithCopyWarning: \n",
      "A value is trying to be set on a copy of a slice from a DataFrame.\n",
      "Try using .loc[row_indexer,col_indexer] = value instead\n",
      "\n",
      "See the caveats in the documentation: http://pandas.pydata.org/pandas-docs/stable/indexing.html#indexing-view-versus-copy\n",
      "  after removing the cwd from sys.path.\n"
     ]
    }
   ],
   "source": [
    "# get count of number of words in each comment and create a new column for this variable\n",
    "count = df['Comment'].str.split().str.len()\n",
    "count = count.tolist()\n",
    "df['count'] = count"
   ]
  },
  {
   "cell_type": "code",
   "execution_count": 39,
   "metadata": {},
   "outputs": [
    {
     "name": "stdout",
     "output_type": "stream",
     "text": [
      "273747\n"
     ]
    },
    {
     "data": {
      "text/html": [
       "<div>\n",
       "<style scoped>\n",
       "    .dataframe tbody tr th:only-of-type {\n",
       "        vertical-align: middle;\n",
       "    }\n",
       "\n",
       "    .dataframe tbody tr th {\n",
       "        vertical-align: top;\n",
       "    }\n",
       "\n",
       "    .dataframe thead th {\n",
       "        text-align: right;\n",
       "    }\n",
       "</style>\n",
       "<table border=\"1\" class=\"dataframe\">\n",
       "  <thead>\n",
       "    <tr style=\"text-align: right;\">\n",
       "      <th></th>\n",
       "      <th>Author</th>\n",
       "      <th>Comment</th>\n",
       "      <th>Date</th>\n",
       "      <th>Score</th>\n",
       "      <th>Subreddit</th>\n",
       "      <th>count</th>\n",
       "    </tr>\n",
       "  </thead>\n",
       "  <tbody>\n",
       "    <tr>\n",
       "      <th>3</th>\n",
       "      <td>ExquisiteInquisition</td>\n",
       "      <td>Yeah, I understand that one. I'm close to that...</td>\n",
       "      <td>2016-01-01 00:00:17</td>\n",
       "      <td>1</td>\n",
       "      <td>depression</td>\n",
       "      <td>10</td>\n",
       "    </tr>\n",
       "    <tr>\n",
       "      <th>13</th>\n",
       "      <td>White_Walls</td>\n",
       "      <td>I was depressed for many years. I'm talking ho...</td>\n",
       "      <td>2016-01-01 00:00:50</td>\n",
       "      <td>9</td>\n",
       "      <td>depression</td>\n",
       "      <td>39</td>\n",
       "    </tr>\n",
       "    <tr>\n",
       "      <th>25</th>\n",
       "      <td>AnotherAccount233</td>\n",
       "      <td>Whoa, sounds tough. Glad to know you've gotten...</td>\n",
       "      <td>2016-01-01 00:01:30</td>\n",
       "      <td>2</td>\n",
       "      <td>depression</td>\n",
       "      <td>31</td>\n",
       "    </tr>\n",
       "    <tr>\n",
       "      <th>38</th>\n",
       "      <td>AnotherAccount233</td>\n",
       "      <td>Thanks! you're not alone either</td>\n",
       "      <td>2016-01-01 00:02:10</td>\n",
       "      <td>2</td>\n",
       "      <td>depression</td>\n",
       "      <td>5</td>\n",
       "    </tr>\n",
       "    <tr>\n",
       "      <th>44</th>\n",
       "      <td>AnotherAccount233</td>\n",
       "      <td>Same^</td>\n",
       "      <td>2016-01-01 00:02:31</td>\n",
       "      <td>2</td>\n",
       "      <td>depression</td>\n",
       "      <td>1</td>\n",
       "    </tr>\n",
       "  </tbody>\n",
       "</table>\n",
       "</div>"
      ],
      "text/plain": [
       "                  Author                                            Comment  \\\n",
       "3   ExquisiteInquisition  Yeah, I understand that one. I'm close to that...   \n",
       "13           White_Walls  I was depressed for many years. I'm talking ho...   \n",
       "25     AnotherAccount233  Whoa, sounds tough. Glad to know you've gotten...   \n",
       "38     AnotherAccount233                    Thanks! you're not alone either   \n",
       "44     AnotherAccount233                                              Same^   \n",
       "\n",
       "                   Date  Score   Subreddit  count  \n",
       "3   2016-01-01 00:00:17      1  depression     10  \n",
       "13  2016-01-01 00:00:50      9  depression     39  \n",
       "25  2016-01-01 00:01:30      2  depression     31  \n",
       "38  2016-01-01 00:02:10      2  depression      5  \n",
       "44  2016-01-01 00:02:31      2  depression      1  "
      ]
     },
     "execution_count": 39,
     "metadata": {},
     "output_type": "execute_result"
    }
   ],
   "source": [
    "print(len(df))\n",
    "df.head()"
   ]
  },
  {
   "cell_type": "code",
   "execution_count": 40,
   "metadata": {},
   "outputs": [
    {
     "data": {
      "text/plain": [
       "count    273747.000000\n",
       "mean         68.101170\n",
       "std          87.165076\n",
       "min           0.000000\n",
       "25%          18.000000\n",
       "50%          41.000000\n",
       "75%          86.000000\n",
       "max        1931.000000\n",
       "Name: count, dtype: float64"
      ]
     },
     "execution_count": 40,
     "metadata": {},
     "output_type": "execute_result"
    }
   ],
   "source": [
    "df['count'].describe()"
   ]
  },
  {
   "cell_type": "code",
   "execution_count": 41,
   "metadata": {},
   "outputs": [
    {
     "name": "stdout",
     "output_type": "stream",
     "text": [
      "214997\n"
     ]
    },
    {
     "data": {
      "text/html": [
       "<div>\n",
       "<style scoped>\n",
       "    .dataframe tbody tr th:only-of-type {\n",
       "        vertical-align: middle;\n",
       "    }\n",
       "\n",
       "    .dataframe tbody tr th {\n",
       "        vertical-align: top;\n",
       "    }\n",
       "\n",
       "    .dataframe thead th {\n",
       "        text-align: right;\n",
       "    }\n",
       "</style>\n",
       "<table border=\"1\" class=\"dataframe\">\n",
       "  <thead>\n",
       "    <tr style=\"text-align: right;\">\n",
       "      <th></th>\n",
       "      <th>Author</th>\n",
       "      <th>Comment</th>\n",
       "      <th>Date</th>\n",
       "      <th>Score</th>\n",
       "      <th>Subreddit</th>\n",
       "      <th>count</th>\n",
       "    </tr>\n",
       "  </thead>\n",
       "  <tbody>\n",
       "    <tr>\n",
       "      <th>13</th>\n",
       "      <td>White_Walls</td>\n",
       "      <td>I was depressed for many years. I'm talking ho...</td>\n",
       "      <td>2016-01-01 00:00:50</td>\n",
       "      <td>9</td>\n",
       "      <td>depression</td>\n",
       "      <td>39</td>\n",
       "    </tr>\n",
       "    <tr>\n",
       "      <th>25</th>\n",
       "      <td>AnotherAccount233</td>\n",
       "      <td>Whoa, sounds tough. Glad to know you've gotten...</td>\n",
       "      <td>2016-01-01 00:01:30</td>\n",
       "      <td>2</td>\n",
       "      <td>depression</td>\n",
       "      <td>31</td>\n",
       "    </tr>\n",
       "    <tr>\n",
       "      <th>76</th>\n",
       "      <td>AnotherAccount233</td>\n",
       "      <td>Same here. You're not alone I don't have any f...</td>\n",
       "      <td>2016-01-01 00:04:26</td>\n",
       "      <td>1</td>\n",
       "      <td>depression</td>\n",
       "      <td>20</td>\n",
       "    </tr>\n",
       "    <tr>\n",
       "      <th>92</th>\n",
       "      <td>VirginaWolf</td>\n",
       "      <td>I'm 29 and registered for school to complete m...</td>\n",
       "      <td>2016-01-01 00:05:04</td>\n",
       "      <td>1</td>\n",
       "      <td>depression</td>\n",
       "      <td>155</td>\n",
       "    </tr>\n",
       "    <tr>\n",
       "      <th>120</th>\n",
       "      <td>VirginaWolf</td>\n",
       "      <td>At clubs I often ditch my friends and just cho...</td>\n",
       "      <td>2016-01-01 00:06:16</td>\n",
       "      <td>1</td>\n",
       "      <td>depression</td>\n",
       "      <td>25</td>\n",
       "    </tr>\n",
       "  </tbody>\n",
       "</table>\n",
       "</div>"
      ],
      "text/plain": [
       "                Author                                            Comment  \\\n",
       "13         White_Walls  I was depressed for many years. I'm talking ho...   \n",
       "25   AnotherAccount233  Whoa, sounds tough. Glad to know you've gotten...   \n",
       "76   AnotherAccount233  Same here. You're not alone I don't have any f...   \n",
       "92         VirginaWolf  I'm 29 and registered for school to complete m...   \n",
       "120        VirginaWolf  At clubs I often ditch my friends and just cho...   \n",
       "\n",
       "                    Date  Score   Subreddit  count  \n",
       "13   2016-01-01 00:00:50      9  depression     39  \n",
       "25   2016-01-01 00:01:30      2  depression     31  \n",
       "76   2016-01-01 00:04:26      1  depression     20  \n",
       "92   2016-01-01 00:05:04      1  depression    155  \n",
       "120  2016-01-01 00:06:16      1  depression     25  "
      ]
     },
     "execution_count": 41,
     "metadata": {},
     "output_type": "execute_result"
    }
   ],
   "source": [
    "# remove words with less than 15 words or greater than 400 words\n",
    "df = df[df.iloc[:,5]<= 400]\n",
    "df = df[df.iloc[:,5]>=15]\n",
    "print(len(df))\n",
    "df.head()"
   ]
  },
  {
   "cell_type": "code",
   "execution_count": 43,
   "metadata": {},
   "outputs": [
    {
     "data": {
      "text/plain": [
       "count    214997.000000\n",
       "mean         76.861240\n",
       "std          66.390718\n",
       "min          15.000000\n",
       "25%          31.000000\n",
       "50%          54.000000\n",
       "75%          99.000000\n",
       "max         400.000000\n",
       "Name: count, dtype: float64"
      ]
     },
     "execution_count": 43,
     "metadata": {},
     "output_type": "execute_result"
    }
   ],
   "source": [
    "df['count'].describe()"
   ]
  },
  {
   "cell_type": "code",
   "execution_count": 45,
   "metadata": {},
   "outputs": [
    {
     "name": "stdout",
     "output_type": "stream",
     "text": [
      "105418\n"
     ]
    },
    {
     "data": {
      "text/html": [
       "<div>\n",
       "<style scoped>\n",
       "    .dataframe tbody tr th:only-of-type {\n",
       "        vertical-align: middle;\n",
       "    }\n",
       "\n",
       "    .dataframe tbody tr th {\n",
       "        vertical-align: top;\n",
       "    }\n",
       "\n",
       "    .dataframe thead th {\n",
       "        text-align: right;\n",
       "    }\n",
       "</style>\n",
       "<table border=\"1\" class=\"dataframe\">\n",
       "  <thead>\n",
       "    <tr style=\"text-align: right;\">\n",
       "      <th></th>\n",
       "      <th>Author</th>\n",
       "      <th>Comment</th>\n",
       "      <th>Date</th>\n",
       "      <th>Score</th>\n",
       "      <th>Subreddit</th>\n",
       "      <th>count</th>\n",
       "    </tr>\n",
       "  </thead>\n",
       "  <tbody>\n",
       "    <tr>\n",
       "      <th>13</th>\n",
       "      <td>White_Walls</td>\n",
       "      <td>I was depressed for many years. I'm talking ho...</td>\n",
       "      <td>2016-01-01 00:00:50</td>\n",
       "      <td>9</td>\n",
       "      <td>depression</td>\n",
       "      <td>39</td>\n",
       "    </tr>\n",
       "    <tr>\n",
       "      <th>25</th>\n",
       "      <td>AnotherAccount233</td>\n",
       "      <td>Whoa, sounds tough. Glad to know you've gotten...</td>\n",
       "      <td>2016-01-01 00:01:30</td>\n",
       "      <td>2</td>\n",
       "      <td>depression</td>\n",
       "      <td>31</td>\n",
       "    </tr>\n",
       "    <tr>\n",
       "      <th>124</th>\n",
       "      <td>jrt364</td>\n",
       "      <td>I'm spending new year's alone too, as I don't ...</td>\n",
       "      <td>2016-01-01 00:06:34</td>\n",
       "      <td>2</td>\n",
       "      <td>depression</td>\n",
       "      <td>26</td>\n",
       "    </tr>\n",
       "    <tr>\n",
       "      <th>269</th>\n",
       "      <td>soccermomjanis</td>\n",
       "      <td>I'm so sorry for your loss. I can't imagine ho...</td>\n",
       "      <td>2016-01-01 00:13:34</td>\n",
       "      <td>4</td>\n",
       "      <td>depression</td>\n",
       "      <td>84</td>\n",
       "    </tr>\n",
       "    <tr>\n",
       "      <th>303</th>\n",
       "      <td>SilverMars</td>\n",
       "      <td>Friend just cancelled at the last minute. I'm ...</td>\n",
       "      <td>2016-01-01 00:14:57</td>\n",
       "      <td>67</td>\n",
       "      <td>depression</td>\n",
       "      <td>16</td>\n",
       "    </tr>\n",
       "  </tbody>\n",
       "</table>\n",
       "</div>"
      ],
      "text/plain": [
       "                Author                                            Comment  \\\n",
       "13         White_Walls  I was depressed for many years. I'm talking ho...   \n",
       "25   AnotherAccount233  Whoa, sounds tough. Glad to know you've gotten...   \n",
       "124             jrt364  I'm spending new year's alone too, as I don't ...   \n",
       "269     soccermomjanis  I'm so sorry for your loss. I can't imagine ho...   \n",
       "303         SilverMars  Friend just cancelled at the last minute. I'm ...   \n",
       "\n",
       "                    Date  Score   Subreddit  count  \n",
       "13   2016-01-01 00:00:50      9  depression     39  \n",
       "25   2016-01-01 00:01:30      2  depression     31  \n",
       "124  2016-01-01 00:06:34      2  depression     26  \n",
       "269  2016-01-01 00:13:34      4  depression     84  \n",
       "303  2016-01-01 00:14:57     67  depression     16  "
      ]
     },
     "execution_count": 45,
     "metadata": {},
     "output_type": "execute_result"
    }
   ],
   "source": [
    "# take comments with a score greater than 2\n",
    "#df2 = df[df.iloc[:,3]>= 2]\n",
    "#print(len(df2))\n",
    "#df2.head()"
   ]
  },
  {
   "cell_type": "code",
   "execution_count": 46,
   "metadata": {},
   "outputs": [],
   "source": [
    "df.to_csv(\"reddit_depression_2016.csv\", index = False, encoding = \"utf-8\")"
   ]
  },
  {
   "cell_type": "markdown",
   "metadata": {},
   "source": [
    "## Get top 100,000 comments for each subreddit"
   ]
  },
  {
   "cell_type": "code",
   "execution_count": 13,
   "metadata": {},
   "outputs": [],
   "source": [
    "# all subredddits minus the 'depression' subreddit\n",
    "subreddits = ['SuicideWatch', \\\n",
    "                       'relationships', 'confession', 'MadeMeSmile', 'happy', 'politics', 'sports', 'TrollYChromosome', \\\n",
    "                       'TrollXChromosome', 'BlackPeopleTwitter', 'malehairadvice', 'findareddit', 'legaladvice',\\\n",
    "                       'AskWomen', 'Parenting', 'television', 'news', 'WhitePeopleTwitter', 'RoastMe',\\\n",
    "                       'AdviceAnimals', 'GetMotivated', 'hiphopheads', 'AskReddit', 'worldnews', 'tifu', 'TwoXChromosomes',\\\n",
    "                       'entertainment', 'creepyPMs', 'ContagiousLaughter', 'Showerthoughts', 'randomactsofkindness',\\\n",
    "                       'TalesFromRetail', 'pettyrevenge', 'crime']"
   ]
  },
  {
   "cell_type": "code",
   "execution_count": 14,
   "metadata": {},
   "outputs": [],
   "source": [
    "# get top 100,000 comments for depression\n",
    "reduced_df = joint_df.loc[joint_df['Subreddit'] == 'depression'].sort_values(by='Score', ascending = False)[0:100000]"
   ]
  },
  {
   "cell_type": "code",
   "execution_count": 15,
   "metadata": {},
   "outputs": [
    {
     "data": {
      "text/plain": [
       "(100000, 5)"
      ]
     },
     "execution_count": 15,
     "metadata": {},
     "output_type": "execute_result"
    }
   ],
   "source": [
    "reduced_df.shape"
   ]
  },
  {
   "cell_type": "code",
   "execution_count": 16,
   "metadata": {},
   "outputs": [],
   "source": [
    "# add the top 100,000 comments for other subreddits or all comments if less than 100,000\n",
    "for i in subreddits: \n",
    "    if len(joint_df.loc[joint_df['Subreddit'] == i]) > 100000:\n",
    "        reduced_df = reduced_df.append(joint_df.loc[joint_df['Subreddit'] == i].sort_values(by='Score', \n",
    "                                                                                            ascending = False)[0:100000])\n",
    "    else:\n",
    "        reduced_df = reduced_df.append(joint_df.loc[joint_df['Subreddit'] == i])\n",
    "    "
   ]
  },
  {
   "cell_type": "code",
   "execution_count": 17,
   "metadata": {},
   "outputs": [
    {
     "data": {
      "text/plain": [
       "Subreddit\n",
       "AdviceAnimals           100000\n",
       "TwoXChromosomes         100000\n",
       "tifu                    100000\n",
       "television              100000\n",
       "sports                  100000\n",
       "relationships           100000\n",
       "politics                100000\n",
       "news                    100000\n",
       "legaladvice             100000\n",
       "hiphopheads             100000\n",
       "depression              100000\n",
       "AskWomen                100000\n",
       "worldnews               100000\n",
       "Showerthoughts          100000\n",
       "RoastMe                 100000\n",
       "BlackPeopleTwitter      100000\n",
       "Parenting               100000\n",
       "GetMotivated             96745\n",
       "confession               68581\n",
       "TalesFromRetail          57148\n",
       "SuicideWatch             56638\n",
       "creepyPMs                50790\n",
       "malehairadvice           36175\n",
       "pettyrevenge             25504\n",
       "findareddit              22447\n",
       "TrollYChromosome         20681\n",
       "MadeMeSmile              16444\n",
       "entertainment            15781\n",
       "ContagiousLaughter       14299\n",
       "happy                     7948\n",
       "WhitePeopleTwitter        1290\n",
       "randomactsofkindness       239\n",
       "crime                      124\n",
       "TrollXChromosome            89\n",
       "Name: Comment, dtype: int64"
      ]
     },
     "execution_count": 17,
     "metadata": {},
     "output_type": "execute_result"
    }
   ],
   "source": [
    "reduced_df.groupby(['Subreddit']).Comment.count().nlargest(34)"
   ]
  },
  {
   "cell_type": "code",
   "execution_count": 19,
   "metadata": {},
   "outputs": [],
   "source": [
    "# get count of number of words in each comment and create a new column for this variable\n",
    "count = reduced_df['Comment'].str.split().str.len()\n",
    "count = count.tolist()\n",
    "reduced_df['count'] = count"
   ]
  },
  {
   "cell_type": "code",
   "execution_count": 21,
   "metadata": {},
   "outputs": [
    {
     "name": "stdout",
     "output_type": "stream",
     "text": [
      "1366823\n"
     ]
    },
    {
     "data": {
      "text/html": [
       "<div>\n",
       "<style scoped>\n",
       "    .dataframe tbody tr th:only-of-type {\n",
       "        vertical-align: middle;\n",
       "    }\n",
       "\n",
       "    .dataframe tbody tr th {\n",
       "        vertical-align: top;\n",
       "    }\n",
       "\n",
       "    .dataframe thead th {\n",
       "        text-align: right;\n",
       "    }\n",
       "</style>\n",
       "<table border=\"1\" class=\"dataframe\">\n",
       "  <thead>\n",
       "    <tr style=\"text-align: right;\">\n",
       "      <th></th>\n",
       "      <th>Author</th>\n",
       "      <th>Comment</th>\n",
       "      <th>Date</th>\n",
       "      <th>Score</th>\n",
       "      <th>Subreddit</th>\n",
       "      <th>count</th>\n",
       "    </tr>\n",
       "  </thead>\n",
       "  <tbody>\n",
       "    <tr>\n",
       "      <th>138831</th>\n",
       "      <td>Notthepizza</td>\n",
       "      <td>It's a double dose cocktail of \"fuck you\", I k...</td>\n",
       "      <td>2016-05-05 21:39:39</td>\n",
       "      <td>550</td>\n",
       "      <td>depression</td>\n",
       "      <td>33</td>\n",
       "    </tr>\n",
       "    <tr>\n",
       "      <th>244237</th>\n",
       "      <td>Immortal_Azrael</td>\n",
       "      <td>And once you're dead they all sit around askin...</td>\n",
       "      <td>2016-02-08 20:34:46</td>\n",
       "      <td>459</td>\n",
       "      <td>depression</td>\n",
       "      <td>21</td>\n",
       "    </tr>\n",
       "    <tr>\n",
       "      <th>843664</th>\n",
       "      <td>DragonflyRider</td>\n",
       "      <td>My wife and son died when a drunk driver hit t...</td>\n",
       "      <td>2016-11-24 06:30:49</td>\n",
       "      <td>373</td>\n",
       "      <td>depression</td>\n",
       "      <td>200</td>\n",
       "    </tr>\n",
       "    <tr>\n",
       "      <th>193815</th>\n",
       "      <td>Wolf_Ayama</td>\n",
       "      <td>I really think you need to call the police on ...</td>\n",
       "      <td>2016-06-07 18:54:09</td>\n",
       "      <td>341</td>\n",
       "      <td>depression</td>\n",
       "      <td>53</td>\n",
       "    </tr>\n",
       "    <tr>\n",
       "      <th>809347</th>\n",
       "      <td>Godecapitator</td>\n",
       "      <td>That. Is. So. Fucked. Up. What a psycho. I'd r...</td>\n",
       "      <td>2016-01-28 05:23:36</td>\n",
       "      <td>334</td>\n",
       "      <td>depression</td>\n",
       "      <td>59</td>\n",
       "    </tr>\n",
       "  </tbody>\n",
       "</table>\n",
       "</div>"
      ],
      "text/plain": [
       "                 Author                                            Comment  \\\n",
       "138831      Notthepizza  It's a double dose cocktail of \"fuck you\", I k...   \n",
       "244237  Immortal_Azrael  And once you're dead they all sit around askin...   \n",
       "843664   DragonflyRider  My wife and son died when a drunk driver hit t...   \n",
       "193815       Wolf_Ayama  I really think you need to call the police on ...   \n",
       "809347    Godecapitator  That. Is. So. Fucked. Up. What a psycho. I'd r...   \n",
       "\n",
       "                       Date  Score   Subreddit  count  \n",
       "138831  2016-05-05 21:39:39    550  depression     33  \n",
       "244237  2016-02-08 20:34:46    459  depression     21  \n",
       "843664  2016-11-24 06:30:49    373  depression    200  \n",
       "193815  2016-06-07 18:54:09    341  depression     53  \n",
       "809347  2016-01-28 05:23:36    334  depression     59  "
      ]
     },
     "execution_count": 21,
     "metadata": {},
     "output_type": "execute_result"
    }
   ],
   "source": [
    "# remove comments with more than 400 words and less than 15 words\n",
    "df2 = reduced_df[reduced_df.iloc[:,5]<= 400]\n",
    "df2 = df2[df2.iloc[:,5]>=15]\n",
    "print(len(df2))\n",
    "df2.head()"
   ]
  },
  {
   "cell_type": "code",
   "execution_count": 22,
   "metadata": {},
   "outputs": [
    {
     "data": {
      "text/plain": [
       "Subreddit\n",
       "relationships           91447\n",
       "Parenting               89402\n",
       "legaladvice             85822\n",
       "TwoXChromosomes         81881\n",
       "AskWomen                79285\n",
       "depression              79233\n",
       "politics                70040\n",
       "news                    68812\n",
       "worldnews               63833\n",
       "television              57933\n",
       "AdviceAnimals           57558\n",
       "tifu                    55129\n",
       "Showerthoughts          51494\n",
       "hiphopheads             51017\n",
       "confession              46857\n",
       "GetMotivated            45556\n",
       "SuicideWatch            44690\n",
       "TalesFromRetail         40726\n",
       "sports                  39874\n",
       "RoastMe                 35567\n",
       "BlackPeopleTwitter      33595\n",
       "creepyPMs               26104\n",
       "malehairadvice          20970\n",
       "pettyrevenge            13948\n",
       "TrollYChromosome         9928\n",
       "entertainment            6731\n",
       "findareddit              6630\n",
       "MadeMeSmile              4856\n",
       "ContagiousLaughter       4407\n",
       "happy                    2987\n",
       "WhitePeopleTwitter        274\n",
       "randomactsofkindness      114\n",
       "crime                      71\n",
       "TrollXChromosome           52\n",
       "Name: Comment, dtype: int64"
      ]
     },
     "execution_count": 22,
     "metadata": {},
     "output_type": "execute_result"
    }
   ],
   "source": [
    "df2.groupby(['Subreddit']).Comment.count().nlargest(34)"
   ]
  },
  {
   "cell_type": "code",
   "execution_count": 30,
   "metadata": {},
   "outputs": [
    {
     "name": "stdout",
     "output_type": "stream",
     "text": [
      "1251560\n"
     ]
    },
    {
     "data": {
      "text/html": [
       "<div>\n",
       "<style scoped>\n",
       "    .dataframe tbody tr th:only-of-type {\n",
       "        vertical-align: middle;\n",
       "    }\n",
       "\n",
       "    .dataframe tbody tr th {\n",
       "        vertical-align: top;\n",
       "    }\n",
       "\n",
       "    .dataframe thead th {\n",
       "        text-align: right;\n",
       "    }\n",
       "</style>\n",
       "<table border=\"1\" class=\"dataframe\">\n",
       "  <thead>\n",
       "    <tr style=\"text-align: right;\">\n",
       "      <th></th>\n",
       "      <th>Author</th>\n",
       "      <th>Comment</th>\n",
       "      <th>Date</th>\n",
       "      <th>Score</th>\n",
       "      <th>Subreddit</th>\n",
       "      <th>count</th>\n",
       "    </tr>\n",
       "  </thead>\n",
       "  <tbody>\n",
       "    <tr>\n",
       "      <th>138831</th>\n",
       "      <td>Notthepizza</td>\n",
       "      <td>It's a double dose cocktail of \"fuck you\", I k...</td>\n",
       "      <td>2016-05-05 21:39:39</td>\n",
       "      <td>550</td>\n",
       "      <td>depression</td>\n",
       "      <td>33</td>\n",
       "    </tr>\n",
       "    <tr>\n",
       "      <th>244237</th>\n",
       "      <td>Immortal_Azrael</td>\n",
       "      <td>And once you're dead they all sit around askin...</td>\n",
       "      <td>2016-02-08 20:34:46</td>\n",
       "      <td>459</td>\n",
       "      <td>depression</td>\n",
       "      <td>21</td>\n",
       "    </tr>\n",
       "    <tr>\n",
       "      <th>843664</th>\n",
       "      <td>DragonflyRider</td>\n",
       "      <td>My wife and son died when a drunk driver hit t...</td>\n",
       "      <td>2016-11-24 06:30:49</td>\n",
       "      <td>373</td>\n",
       "      <td>depression</td>\n",
       "      <td>200</td>\n",
       "    </tr>\n",
       "    <tr>\n",
       "      <th>193815</th>\n",
       "      <td>Wolf_Ayama</td>\n",
       "      <td>I really think you need to call the police on ...</td>\n",
       "      <td>2016-06-07 18:54:09</td>\n",
       "      <td>341</td>\n",
       "      <td>depression</td>\n",
       "      <td>53</td>\n",
       "    </tr>\n",
       "    <tr>\n",
       "      <th>809347</th>\n",
       "      <td>Godecapitator</td>\n",
       "      <td>That. Is. So. Fucked. Up. What a psycho. I'd r...</td>\n",
       "      <td>2016-01-28 05:23:36</td>\n",
       "      <td>334</td>\n",
       "      <td>depression</td>\n",
       "      <td>59</td>\n",
       "    </tr>\n",
       "  </tbody>\n",
       "</table>\n",
       "</div>"
      ],
      "text/plain": [
       "                 Author                                            Comment  \\\n",
       "138831      Notthepizza  It's a double dose cocktail of \"fuck you\", I k...   \n",
       "244237  Immortal_Azrael  And once you're dead they all sit around askin...   \n",
       "843664   DragonflyRider  My wife and son died when a drunk driver hit t...   \n",
       "193815       Wolf_Ayama  I really think you need to call the police on ...   \n",
       "809347    Godecapitator  That. Is. So. Fucked. Up. What a psycho. I'd r...   \n",
       "\n",
       "                       Date  Score   Subreddit  count  \n",
       "138831  2016-05-05 21:39:39    550  depression     33  \n",
       "244237  2016-02-08 20:34:46    459  depression     21  \n",
       "843664  2016-11-24 06:30:49    373  depression    200  \n",
       "193815  2016-06-07 18:54:09    341  depression     53  \n",
       "809347  2016-01-28 05:23:36    334  depression     59  "
      ]
     },
     "execution_count": 30,
     "metadata": {},
     "output_type": "execute_result"
    }
   ],
   "source": [
    "# remove comments with a score of less than 2\n",
    "df3 = df2[df2.iloc[:,3]>= 2]\n",
    "print(len(df3))\n",
    "df3.head()"
   ]
  },
  {
   "cell_type": "code",
   "execution_count": 31,
   "metadata": {},
   "outputs": [
    {
     "data": {
      "text/plain": [
       "Subreddit\n",
       "relationships           91447\n",
       "Parenting               88782\n",
       "legaladvice             85822\n",
       "TwoXChromosomes         81881\n",
       "AskWomen                79285\n",
       "depression              79233\n",
       "politics                70040\n",
       "news                    68812\n",
       "worldnews               63833\n",
       "television              57933\n",
       "AdviceAnimals           57558\n",
       "tifu                    55129\n",
       "Showerthoughts          51494\n",
       "hiphopheads             51017\n",
       "RoastMe                 35567\n",
       "TalesFromRetail         35367\n",
       "BlackPeopleTwitter      33595\n",
       "confession              30508\n",
       "sports                  24765\n",
       "creepyPMs               23971\n",
       "GetMotivated            20457\n",
       "SuicideWatch            17937\n",
       "pettyrevenge            11709\n",
       "malehairadvice          10365\n",
       "TrollYChromosome         8135\n",
       "entertainment            3920\n",
       "MadeMeSmile              3527\n",
       "findareddit              3506\n",
       "ContagiousLaughter       3329\n",
       "happy                    2300\n",
       "WhitePeopleTwitter        217\n",
       "randomactsofkindness       76\n",
       "TrollXChromosome           24\n",
       "crime                      19\n",
       "Name: Comment, dtype: int64"
      ]
     },
     "execution_count": 31,
     "metadata": {},
     "output_type": "execute_result"
    }
   ],
   "source": [
    "df3.groupby(['Subreddit']).Comment.count().nlargest(34)"
   ]
  },
  {
   "cell_type": "code",
   "execution_count": 34,
   "metadata": {},
   "outputs": [
    {
     "name": "stdout",
     "output_type": "stream",
     "text": [
      "Total number of comments: 1251560\n"
     ]
    }
   ],
   "source": [
    "print('Total number of comments: ' + str(len(df3)))"
   ]
  },
  {
   "cell_type": "code",
   "execution_count": 33,
   "metadata": {},
   "outputs": [
    {
     "data": {
      "text/plain": [
       "386740"
      ]
     },
     "execution_count": 33,
     "metadata": {},
     "output_type": "execute_result"
    }
   ],
   "source": [
    "len(df3.groupby('Author').nunique())"
   ]
  },
  {
   "cell_type": "code",
   "execution_count": 35,
   "metadata": {},
   "outputs": [],
   "source": [
    "df3.to_csv(\"reddit.csv\", index = False, encoding = \"utf-8\")"
   ]
  }
 ],
 "metadata": {
  "kernelspec": {
   "display_name": "Python 3",
   "language": "python",
   "name": "python3"
  },
  "language_info": {
   "codemirror_mode": {
    "name": "ipython",
    "version": 3
   },
   "file_extension": ".py",
   "mimetype": "text/x-python",
   "name": "python",
   "nbconvert_exporter": "python",
   "pygments_lexer": "ipython3",
   "version": "3.6.8"
  }
 },
 "nbformat": 4,
 "nbformat_minor": 2
}
